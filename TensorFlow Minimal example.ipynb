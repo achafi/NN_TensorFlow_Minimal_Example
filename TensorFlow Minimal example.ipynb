{
 "cells": [
  {
   "cell_type": "markdown",
   "metadata": {},
   "source": [
    "### Import the relevant libraries"
   ]
  },
  {
   "cell_type": "code",
   "execution_count": 1,
   "metadata": {},
   "outputs": [],
   "source": [
    "import numpy as np \n",
    "import matplotlib.pyplot as plt\n",
    "import tensorflow as tf"
   ]
  },
  {
   "cell_type": "markdown",
   "metadata": {},
   "source": [
    "### Data generation  "
   ]
  },
  {
   "cell_type": "code",
   "execution_count": 2,
   "metadata": {},
   "outputs": [],
   "source": [
    "# Data -> Preprocess -> save in .npz\n",
    "observations = 100000\n",
    "\n",
    "xs = np.random.uniform(-10 ,10, size = (observations, 1))\n",
    "zs = np.random.uniform(-10, 10, size = (observations, 1))\n",
    "\n",
    "generated_inputs = np.column_stack((xs,zs))\n",
    "\n",
    "noise = np.random.uniform(-1,1, (observations, 1))\n",
    "\n",
    "generated_targets = 2*xs - 3*zs + 5 + noise\n",
    "\n",
    "# Save data into .npz file (n-dimensional numpy array )\n",
    "\n",
    "np.savez(\"TF_intro\", inputs=generated_inputs, targets = generated_targets)\n"
   ]
  },
  {
   "cell_type": "markdown",
   "metadata": {},
   "source": [
    "### Solving with Tensorflow"
   ]
  },
  {
   "cell_type": "code",
   "execution_count": 3,
   "metadata": {},
   "outputs": [],
   "source": [
    "# Two variables that measures the size of our inputs and outputs\n",
    "input_size = 2\n",
    "output_size = 1"
   ]
  },
  {
   "cell_type": "markdown",
   "metadata": {},
   "source": [
    "### Outlining the model  "
   ]
  },
  {
   "cell_type": "code",
   "execution_count": 4,
   "metadata": {},
   "outputs": [
    {
     "name": "stdout",
     "output_type": "stream",
     "text": [
      "WARNING:tensorflow:From C:\\Users\\post\\Anaconda2\\lib\\site-packages\\tensorflow\\python\\framework\\op_def_library.py:263: colocate_with (from tensorflow.python.framework.ops) is deprecated and will be removed in a future version.\n",
      "Instructions for updating:\n",
      "Colocations handled automatically by placer.\n"
     ]
    }
   ],
   "source": [
    "# Creation of Tensorflow objects : \n",
    "# Feed data --> tf.placeholder \n",
    "# Vary --> tf.Variables\n",
    "# dot product-> tf.matmul\n",
    "\n",
    "# Creations of two placeholders, where we feed the data\n",
    "inputs = tf.placeholder(tf.float32, [None, input_size])\n",
    "targets = tf.placeholder(tf.float32, [None, output_size])\n",
    "# The None means we need not specify the dimension \n",
    "\n",
    "# Varibles : Weights and biases\n",
    "weights = tf.Variable(tf.random_uniform([input_size,output_size], minval=-0.1, maxval= 0.1))\n",
    "biases = tf.Variable(tf.random_uniform([output_size], minval=-0.1, maxval=0.1))\n",
    "\n",
    "# Outputs\n",
    "outputs = tf.matmul(inputs, weights) + biases"
   ]
  },
  {
   "cell_type": "markdown",
   "metadata": {},
   "source": [
    "### Choosing the objective function and the optimization method"
   ]
  },
  {
   "cell_type": "code",
   "execution_count": 5,
   "metadata": {},
   "outputs": [
    {
     "name": "stdout",
     "output_type": "stream",
     "text": [
      "WARNING:tensorflow:From C:\\Users\\post\\Anaconda2\\lib\\site-packages\\tensorflow\\python\\ops\\losses\\losses_impl.py:667: to_float (from tensorflow.python.ops.math_ops) is deprecated and will be removed in a future version.\n",
      "Instructions for updating:\n",
      "Use tf.cast instead.\n"
     ]
    }
   ],
   "source": [
    "# Define the objective function \n",
    "# tf is our library, we need a module that contain loss function: losses is a module that contains most of the commons Loss functionsall\n",
    "mean_loss = tf.losses.mean_squared_error(labels = targets, predictions = outputs) / 2. \n",
    "# The naught after the number 2 is added, so we are certain we'll obtain a float. This is a good programming habits\n",
    "\n",
    "# The optimization method\n",
    "optimize = tf.train.GradientDescentOptimizer(learning_rate=0.05).minimize(mean_loss)"
   ]
  },
  {
   "cell_type": "markdown",
   "metadata": {},
   "source": [
    "### Prepare for execution  "
   ]
  },
  {
   "cell_type": "code",
   "execution_count": 6,
   "metadata": {},
   "outputs": [],
   "source": [
    "# tf.interactiveSession() is a Tensorflow class that is used whenever we want to execute something, anytime\n",
    "sess = tf.InteractiveSession()"
   ]
  },
  {
   "cell_type": "markdown",
   "metadata": {},
   "source": [
    "### Intializing variables"
   ]
  },
  {
   "cell_type": "code",
   "execution_count": 7,
   "metadata": {},
   "outputs": [],
   "source": [
    "# tf.global_variables_initializer() is a method that initializes all tensor objects \"marked\" as variables\n",
    "initializer = tf.global_variables_initializer()\n",
    "sess.run(initializer) # Running this line of code initialized the variables"
   ]
  },
  {
   "cell_type": "markdown",
   "metadata": {},
   "source": [
    "### Loading Training Data "
   ]
  },
  {
   "cell_type": "code",
   "execution_count": 8,
   "metadata": {},
   "outputs": [],
   "source": [
    "# np.load is a method which loads data from an npz. , .npy, or pickled files into an object \n",
    "training_data = np.load(\"TF_intro.npz\")"
   ]
  },
  {
   "cell_type": "markdown",
   "metadata": {},
   "source": [
    "### Learning"
   ]
  },
  {
   "cell_type": "code",
   "execution_count": 9,
   "metadata": {},
   "outputs": [
    {
     "name": "stdout",
     "output_type": "stream",
     "text": [
      "236.95135\n",
      "112.6041\n",
      "55.96158\n",
      "29.91312\n",
      "17.714584\n",
      "11.808078\n",
      "8.779765\n",
      "7.0855412\n",
      "6.0253143\n",
      "5.2800426\n",
      "4.702935\n",
      "4.2252045\n",
      "3.813513\n",
      "3.4507487\n",
      "3.1273205\n",
      "2.8372161\n",
      "2.5762074\n",
      "2.3410118\n",
      "2.1289115\n",
      "1.9375657\n",
      "1.7649088\n",
      "1.6091009\n",
      "1.468491\n",
      "1.3415943\n",
      "1.2270703\n",
      "1.1237131\n",
      "1.0304335\n",
      "0.9462482\n",
      "0.870271\n",
      "0.80170155\n",
      "0.73981774\n",
      "0.6839669\n",
      "0.63356185\n",
      "0.5880712\n",
      "0.5470157\n",
      "0.5099629\n",
      "0.4765232\n",
      "0.44634327\n",
      "0.4191062\n",
      "0.39452437\n",
      "0.37233946\n",
      "0.35231733\n",
      "0.3342473\n",
      "0.3179391\n",
      "0.30322105\n",
      "0.28993788\n",
      "0.27794996\n",
      "0.26713055\n",
      "0.25736624\n",
      "0.24855399\n",
      "0.24060069\n",
      "0.23342313\n",
      "0.22694512\n",
      "0.22109883\n",
      "0.21582246\n",
      "0.2110604\n",
      "0.2067629\n",
      "0.20288426\n",
      "0.19938374\n",
      "0.19622463\n",
      "0.19337358\n",
      "0.19080031\n",
      "0.18847805\n",
      "0.18638211\n",
      "0.1844905\n",
      "0.18278345\n",
      "0.18124273\n",
      "0.1798523\n",
      "0.17859747\n",
      "0.17746492\n",
      "0.17644279\n",
      "0.17552032\n",
      "0.17468779\n",
      "0.17393644\n",
      "0.1732583\n",
      "0.17264631\n",
      "0.17209402\n",
      "0.17159554\n",
      "0.1711457\n",
      "0.17073968\n",
      "0.17037325\n",
      "0.17004257\n",
      "0.16974406\n",
      "0.16947472\n",
      "0.16923162\n",
      "0.16901223\n",
      "0.16881426\n",
      "0.1686355\n",
      "0.16847424\n",
      "0.16832872\n",
      "0.16819738\n",
      "0.16807881\n",
      "0.16797182\n",
      "0.16787523\n",
      "0.16778812\n",
      "0.16770945\n",
      "0.16763845\n",
      "0.16757442\n",
      "0.1675166\n",
      "0.16746442\n"
     ]
    }
   ],
   "source": [
    "# e stands for epoch : iteration over the full dataset\n",
    "# for each epoch run the optimize and mean loss operations by filling the place holder objects with data specified in feed_dict parameter\n",
    "# Since every methode returns something : sess.run(([optimize, mean_loss],) returns something for optimize (returns None) and something for mean_loss(returns value)\n",
    "# _, to discard the return value of optimize\n",
    "#print the Loss at each epoch\n",
    "for e in range(100):\n",
    "    _,current_loss = sess.run([optimize, mean_loss],\n",
    "                             feed_dict = {inputs : training_data['inputs'] , targets : training_data['targets']})\n",
    "    print (current_loss)\n",
    "    "
   ]
  },
  {
   "cell_type": "code",
   "execution_count": null,
   "metadata": {},
   "outputs": [],
   "source": []
  },
  {
   "cell_type": "code",
   "execution_count": null,
   "metadata": {},
   "outputs": [],
   "source": []
  }
 ],
 "metadata": {
  "kernelspec": {
   "display_name": "Python 3",
   "language": "python",
   "name": "python3"
  },
  "language_info": {
   "codemirror_mode": {
    "name": "ipython",
    "version": 3
   },
   "file_extension": ".py",
   "mimetype": "text/x-python",
   "name": "python",
   "nbconvert_exporter": "python",
   "pygments_lexer": "ipython3",
   "version": "3.6.8"
  }
 },
 "nbformat": 4,
 "nbformat_minor": 2
}
