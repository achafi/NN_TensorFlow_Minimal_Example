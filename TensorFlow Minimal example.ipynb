{
 "cells": [
  {
   "cell_type": "markdown",
   "metadata": {},
   "source": [
    "### Import the relevant libraries"
   ]
  },
  {
   "cell_type": "code",
   "execution_count": 1,
   "metadata": {},
   "outputs": [],
   "source": [
    "import numpy as np \n",
    "import matplotlib.pyplot as plt\n",
    "import tensorflow as tf"
   ]
  },
  {
   "cell_type": "markdown",
   "metadata": {},
   "source": [
    "### Data generation  "
   ]
  },
  {
   "cell_type": "code",
   "execution_count": 2,
   "metadata": {},
   "outputs": [],
   "source": [
    "# Data -> Preprocess -> save in .npz\n",
    "observations = 1000\n",
    "\n",
    "xs = np.random.uniform(-10 ,10, size = (observations, 1))\n",
    "zs = np.random.uniform(-10, 10, size = (observations, 1))\n",
    "\n",
    "generated_inputs = np.column_stack((xs,zs))\n",
    "\n",
    "noise = np.random.uniform(-1,1, (observations, 1))\n",
    "\n",
    "generated_targets = 2*xs - 3*zs + 5 + noise\n",
    "\n",
    "# Save data into .npz file (n-dimensional numpy array )\n",
    "\n",
    "np.savez(\"TF_intro\", inputs=generated_inputs, targets = generated_targets)\n"
   ]
  },
  {
   "cell_type": "markdown",
   "metadata": {},
   "source": [
    "### Solving with Tensorflow"
   ]
  },
  {
   "cell_type": "code",
   "execution_count": 3,
   "metadata": {},
   "outputs": [],
   "source": [
    "# Two variables that measures the size of our inputs and outputs\n",
    "input_size = 2\n",
    "output_size = 1"
   ]
  },
  {
   "cell_type": "markdown",
   "metadata": {},
   "source": [
    "### Outlining the model  "
   ]
  },
  {
   "cell_type": "code",
   "execution_count": 4,
   "metadata": {},
   "outputs": [
    {
     "name": "stdout",
     "output_type": "stream",
     "text": [
      "WARNING:tensorflow:From C:\\Users\\post\\Anaconda2\\lib\\site-packages\\tensorflow\\python\\framework\\op_def_library.py:263: colocate_with (from tensorflow.python.framework.ops) is deprecated and will be removed in a future version.\n",
      "Instructions for updating:\n",
      "Colocations handled automatically by placer.\n"
     ]
    }
   ],
   "source": [
    "# Creation of Tensorflow objects : \n",
    "# Feed data --> tf.placeholder \n",
    "# Vary --> tf.Variables\n",
    "# dot product-> tf.matmul\n",
    "\n",
    "# Creations of two placeholders, where we feed the data\n",
    "inputs = tf.placeholder(tf.float32, [None, input_size])\n",
    "targets = tf.placeholder(tf.float32, [None, output_size])\n",
    "# The None means we need not specify the dimension \n",
    "\n",
    "# Varibles : Weights and biases\n",
    "weights = tf.Variable(tf.random_uniform([input_size,output_size], minval=-0.1, maxval= 0.1))\n",
    "biases = tf.Variable(tf.random_uniform([output_size], minval=-0.1, maxval=0.1))\n",
    "\n",
    "# Outputs\n",
    "outputs = tf.matmul(inputs, weights) + biases"
   ]
  },
  {
   "cell_type": "markdown",
   "metadata": {},
   "source": [
    "### Choosing the objective function and the optimization method"
   ]
  },
  {
   "cell_type": "code",
   "execution_count": 5,
   "metadata": {},
   "outputs": [
    {
     "name": "stdout",
     "output_type": "stream",
     "text": [
      "WARNING:tensorflow:From C:\\Users\\post\\Anaconda2\\lib\\site-packages\\tensorflow\\python\\ops\\losses\\losses_impl.py:667: to_float (from tensorflow.python.ops.math_ops) is deprecated and will be removed in a future version.\n",
      "Instructions for updating:\n",
      "Use tf.cast instead.\n"
     ]
    }
   ],
   "source": [
    "# Define the objective function \n",
    "# tf is our library, we need a module that contain loss function: losses is a module that contains most of the commons Loss functionsall\n",
    "mean_loss = tf.losses.mean_squared_error(labels = targets, predictions = outputs) / 2. \n",
    "# The naught after the number 2 is added, so we are certain we'll obtain a float. This is a good programming habits\n",
    "\n",
    "# The optimization method\n",
    "optimize = tf.train.GradientDescentOptimizer(learning_rate=0.05).minimize(mean_loss)"
   ]
  },
  {
   "cell_type": "markdown",
   "metadata": {},
   "source": [
    "### Prepare for execution  "
   ]
  },
  {
   "cell_type": "code",
   "execution_count": 6,
   "metadata": {},
   "outputs": [],
   "source": [
    "# tf.interactiveSession() is a Tensorflow class that is used whenever we want to execute something, anytime\n",
    "sess = tf.InteractiveSession()"
   ]
  },
  {
   "cell_type": "markdown",
   "metadata": {},
   "source": [
    "### Intializing variables"
   ]
  },
  {
   "cell_type": "code",
   "execution_count": 7,
   "metadata": {},
   "outputs": [],
   "source": [
    "# tf.global_variables_initializer() is a method that initializes all tensor objects \"marked\" as variables\n",
    "initializer = tf.global_variables_initializer()\n",
    "sess.run(initializer) # Running this line of code initialized the variables"
   ]
  },
  {
   "cell_type": "markdown",
   "metadata": {},
   "source": [
    "### Loading Training Data "
   ]
  },
  {
   "cell_type": "code",
   "execution_count": 8,
   "metadata": {},
   "outputs": [],
   "source": [
    "# np.load is a method which loads data from an npz. , .npy, or pickled files into an object \n",
    "training_data = np.load(\"TF_intro.npz\")"
   ]
  },
  {
   "cell_type": "markdown",
   "metadata": {},
   "source": [
    "### Learning"
   ]
  },
  {
   "cell_type": "code",
   "execution_count": 9,
   "metadata": {},
   "outputs": [
    {
     "name": "stdout",
     "output_type": "stream",
     "text": [
      "231.48572\n",
      "110.54229\n",
      "55.31979\n",
      "29.816097\n",
      "17.796524\n",
      "11.927832\n",
      "8.890129\n",
      "7.1757383\n",
      "6.0968065\n",
      "5.337215\n",
      "4.749917\n",
      "4.265095\n",
      "3.8484204\n",
      "3.482037\n",
      "3.155851\n",
      "2.863538\n",
      "2.6006699\n",
      "2.3638515\n",
      "2.150297\n",
      "1.9576253\n",
      "1.7837455\n",
      "1.6268035\n",
      "1.4851389\n",
      "1.3572583\n",
      "1.2418181\n",
      "1.1376065\n",
      "1.0435315\n",
      "0.95860624\n",
      "0.881941\n",
      "0.81273144\n",
      "0.75025356\n",
      "0.693852\n",
      "0.6429358\n",
      "0.59697163\n",
      "0.55547744\n",
      "0.51801926\n",
      "0.48420408\n",
      "0.45367745\n",
      "0.42611992\n",
      "0.40124232\n",
      "0.37878457\n",
      "0.35851076\n",
      "0.34020838\n",
      "0.32368633\n",
      "0.30877125\n",
      "0.2953069\n",
      "0.28315172\n",
      "0.27217883\n",
      "0.26227316\n",
      "0.25333086\n",
      "0.24525835\n",
      "0.23797068\n",
      "0.23139203\n",
      "0.22545308\n",
      "0.22009175\n",
      "0.21525183\n",
      "0.21088275\n",
      "0.20693842\n",
      "0.20337768\n",
      "0.20016333\n",
      "0.19726159\n",
      "0.19464202\n",
      "0.19227731\n",
      "0.19014245\n",
      "0.18821533\n",
      "0.18647559\n",
      "0.18490513\n",
      "0.18348731\n",
      "0.1822074\n",
      "0.18105203\n",
      "0.18000898\n",
      "0.17906736\n",
      "0.17821734\n",
      "0.17744999\n",
      "0.17675722\n",
      "0.17613184\n",
      "0.17556736\n",
      "0.17505774\n",
      "0.17459765\n",
      "0.17418243\n",
      "0.1738075\n",
      "0.17346902\n",
      "0.17316346\n",
      "0.1728876\n",
      "0.17263865\n",
      "0.17241386\n",
      "0.17221089\n",
      "0.17202774\n",
      "0.17186236\n",
      "0.1717131\n",
      "0.1715783\n",
      "0.17145672\n",
      "0.17134683\n",
      "0.1712477\n",
      "0.17115818\n",
      "0.17107739\n",
      "0.17100447\n",
      "0.17093863\n",
      "0.17087916\n",
      "0.17082551\n"
     ]
    }
   ],
   "source": [
    "# e stands for epoch : iteration over the full dataset\n",
    "# for each epoch run the optimize and mean loss operations by filling the place holder objects with data specified in feed_dict parameter\n",
    "# Since every methode returns something : sess.run(([optimize, mean_loss],) returns something for optimize (returns None) and something for mean_loss(returns value)\n",
    "# _, to discard the return value of optimize\n",
    "#print the Loss at each epoch\n",
    "for e in range(100):\n",
    "    _,current_loss = sess.run([optimize, mean_loss],\n",
    "                             feed_dict = {inputs : training_data['inputs'] , targets : training_data['targets']})\n",
    "    print (current_loss)\n",
    "    "
   ]
  },
  {
   "cell_type": "code",
   "execution_count": 15,
   "metadata": {},
   "outputs": [],
   "source": [
    "# As before, we want to plot the last output vs targets after the training is supposedly over.\n",
    "# Same notation as above but this time we don't want to train anymore, and we are not interested\n",
    "# in the loss function value.\n",
    "# What we want, however, are the outputs. \n",
    "# Therefore, instead of the optimize and mean_loss operations, we pass the \"outputs\" as the only parameter.\n",
    "out = sess.run([outputs], \n",
    "               feed_dict={inputs: training_data['inputs']})\n",
    "# The model is optimized, so the outputs are calculated based on the last form of the model"
   ]
  },
  {
   "cell_type": "code",
   "execution_count": 25,
   "metadata": {},
   "outputs": [
    {
     "data": {
      "text/plain": [
       "numpy.ndarray"
      ]
     },
     "execution_count": 25,
     "metadata": {},
     "output_type": "execute_result"
    }
   ],
   "source": [
    "type(out[0])"
   ]
  },
  {
   "cell_type": "code",
   "execution_count": 26,
   "metadata": {},
   "outputs": [
    {
     "data": {
      "text/plain": [
       "(1000, 1)"
      ]
     },
     "execution_count": 26,
     "metadata": {},
     "output_type": "execute_result"
    }
   ],
   "source": [
    "out[0].shape"
   ]
  },
  {
   "cell_type": "markdown",
   "metadata": {},
   "source": [
    "### Plotting the data"
   ]
  },
  {
   "cell_type": "code",
   "execution_count": 29,
   "metadata": {},
   "outputs": [
    {
     "data": {
      "image/png": "[encoded data removed]",
      "text/plain": [
       "<Figure size 432x288 with 1 Axes>"
      ]
     },
     "metadata": {
      "needs_background": "light"
     },
     "output_type": "display_data"
    }
   ],
   "source": [
    "plt.plot(out[0], training_data['targets'])\n",
    "plt.xlabel('out')\n",
    "plt.ylabel('targets')\n",
    "plt.show()"
   ]
  },
  {
   "cell_type": "code",
   "execution_count": null,
   "metadata": {},
   "outputs": [],
   "source": []
  }
 ],
 "metadata": {
  "kernelspec": {
   "display_name": "Python 3",
   "language": "python",
   "name": "python3"
  },
  "language_info": {
   "codemirror_mode": {
    "name": "ipython",
    "version": 3
   },
   "file_extension": ".py",
   "mimetype": "text/x-python",
   "name": "python",
   "nbconvert_exporter": "python",
   "pygments_lexer": "ipython3",
   "version": "3.6.8"
  }
 },
 "nbformat": 4,
 "nbformat_minor": 2
}
